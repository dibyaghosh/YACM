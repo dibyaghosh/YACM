{
 "cells": [
  {
   "cell_type": "code",
   "execution_count": 1,
   "metadata": {
    "collapsed": false,
    "specialcell_type": "setup"
   },
   "outputs": [],
   "source": [
    "# SETUP\n",
    "\n",
    "# These lines import the Numpy and Datascience modules.\n",
    "import numpy as np\n",
    "from datascience import *\n",
    "\n",
    "# These lines do some fancy plotting magic\n",
    "import matplotlib\n",
    "%matplotlib inline\n",
    "import matplotlib.pyplot as plt\n",
    "plt.style.use('fivethirtyeight')\n",
    "import warnings\n",
    "warnings.simplefilter('ignore', FutureWarning)"
   ]
  },
  {
   "cell_type": "code",
   "execution_count": 2,
   "metadata": {
    "collapsed": true,
    "specialcell_type": "OK"
   },
   "outputs": [],
   "source": [
    "# OK\n",
    "import doctest\n",
    "import jupyterDoctest"
   ]
  },
  {
   "cell_type": "markdown",
   "metadata": {},
   "source": [
    "# Probability of Two Heads"
   ]
  },
  {
   "cell_type": "markdown",
   "metadata": {},
   "source": [
    "## Part 1: Fair Coins"
   ]
  },
  {
   "cell_type": "markdown",
   "metadata": {},
   "source": [
    "What's the probability that when you flip a fair coin twice, that it lands heads both times?"
   ]
  },
  {
   "cell_type": "markdown",
   "metadata": {},
   "source": [
    "# SOLUTION\n",
    "$$P(2 heads) = P(\\text{Head on 1})P(\\text{Head on 2} |\\text{Head on 1}) = P(\\text{Head on 1})P(\\text{Head on 2}) = P(Head)^2 = \\frac{1}{4}$$"
   ]
  },
  {
   "cell_type": "markdown",
   "metadata": {},
   "source": [
    "Let's say that the coin isn't fair, and instead lands heads with probability $p$. Write a function $pOf2Heads$ which accepts a parameter $p$, and outputs the probability of 2 heads with a biased coin as specified above"
   ]
  },
  {
   "cell_type": "code",
   "execution_count": 6,
   "metadata": {
    "collapsed": true
   },
   "outputs": [],
   "source": [
    "# SOLUTION\n",
    "def pOf2Heads(p):\n",
    "    return p**2"
   ]
  },
  {
   "cell_type": "code",
   "execution_count": 10,
   "metadata": {
    "collapsed": false
   },
   "outputs": [],
   "source": [
    "%%rundoctest\n",
    ">>> pOf2Heads(1) == 1\n",
    "True\n",
    ">>> pOf2Heads(0) == 0\n",
    "True\n",
    ">>> all([0<=pOf2Heads(x)<=1 for x in np.linspace(0,1,20)])\n",
    "True"
   ]
  }
 ],
 "metadata": {
  "kernelspec": {
   "display_name": "Python 3",
   "language": "python",
   "name": "python3"
  },
  "language_info": {
   "codemirror_mode": {
    "name": "ipython",
    "version": 3
   },
   "file_extension": ".py",
   "mimetype": "text/x-python",
   "name": "python",
   "nbconvert_exporter": "python",
   "pygments_lexer": "ipython3",
   "version": "3.5.2"
  }
 },
 "nbformat": 4,
 "nbformat_minor": 0
}
