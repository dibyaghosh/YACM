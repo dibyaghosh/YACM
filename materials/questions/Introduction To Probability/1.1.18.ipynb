{
 "cells": [
  {
   "cell_type": "code",
   "execution_count": null,
   "metadata": {
    "collapsed": false,
    "specialcell_type": "setup"
   },
   "outputs": [],
   "source": [
    "# SETUP\n",
    "\n",
    "# These lines import the Numpy and Datascience modules.\n",
    "import numpy as np\n",
    "from datascience import *\n",
    "\n",
    "# These lines do some fancy plotting magic\n",
    "import matplotlib\n",
    "%matplotlib inline\n",
    "import matplotlib.pyplot as plt\n",
    "plt.style.use('fivethirtyeight')\n",
    "import warnings\n",
    "warnings.simplefilter('ignore', FutureWarning)"
   ]
  },
  {
   "cell_type": "code",
   "execution_count": null,
   "metadata": {
    "collapsed": true,
    "specialcell_type": "OK"
   },
   "outputs": [],
   "source": [
    "# OK\n",
    "import doctest\n",
    "import jupyterDoctest"
   ]
  },
  {
   "cell_type": "markdown",
   "metadata": {},
   "source": [
    "## Question 1.1.18\n",
    "\n",
    "Suppose we roll two fair dice with n sides. What are the probabilities of the following events?\n",
    "\n",
    "1. The maximum of the two, is less than or equal to 2\n",
    "2. The maximum of the two, is less than or equal to x \n",
    "3. The maximum of the two numbers rolled is exactly equal to x "
   ]
  },
  {
   "cell_type": "markdown",
   "metadata": {},
   "source": [
    "#SOLUTION\n",
    "\n",
    "1. We know that the outcome space has size $n^2$ ($|\\Omega | = n^2$). Further, since the dice is fair, we can use the fact/formula for equally likely outcomes. \n",
    "\n",
    "\\begin{align*}\n",
    "P(MAX \\leq 2) &= \\frac{|\\{(1,1),(1,2),(2,1),(2,2)\\}|}{|\\Omega|} \\\\\n",
    "&= \\frac{4}{n^2}\n",
    "\\end{align*}\n",
    "\t\t\t\n",
    "2. The maximum of the two, is less than or equal to x\n",
    "\t\t\t\n",
    "\n",
    "There are $x$ ways that the first dice can be less than or equal to x, and there are $x$ further ways that the second dice can be less than or equal to x. Thus, when looking at both dice, there are a total of $x^2$ ways to have a maximum below x. \n",
    "\n",
    "$$\\frac{x^2}{n^2}$$\n",
    "\n",
    "3. The maximum of the two numbers rolled is exactly equal to x\n",
    "\n",
    "\n",
    "We can split this problem up into three subproblems:\n",
    "\n",
    "- The first die equals x, and the second die is less than x\n",
    "- The first die is less than x, and the second die is x\n",
    "- Both die are equal to x\n",
    "\n",
    "The number of ways that the first scenario can happen is $x-1$, since the first die is limited to one possibility, and the second die to $x-1$ possibilities (1,2,3,... x-1) . \\\\\n",
    "By symmetry, the number of ways the second scenario can happen is $x-1$, as well. \\\\\n",
    "There is only one way for the third scenario to occur (for both to roll x);\n",
    "Thus, \n",
    "            \\begin{align*}\n",
    "            P(MAX = x) &= \\frac{|Scenario 1| + |Scenario 2| + |Scenario 3|}{|\\Omega|} \\\\\n",
    "            &= \\frac{(x-1)+(x-1)+1}{n^2}\\\\ \n",
    "            &= \\frac{2x-1}{n^2}\\\\\n",
    "            \\end{align*}\n"
   ]
  }
 ],
 "metadata": {
  "kernelspec": {
   "display_name": "Python 3",
   "language": "python",
   "name": "python3"
  },
  "language_info": {
   "codemirror_mode": {
    "name": "ipython",
    "version": 3
   },
   "file_extension": ".py",
   "mimetype": "text/x-python",
   "name": "python",
   "nbconvert_exporter": "python",
   "pygments_lexer": "ipython3",
   "version": "3.6.0"
  }
 },
 "nbformat": 4,
 "nbformat_minor": 0
}
