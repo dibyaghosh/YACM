{
 "cells": [
  {
   "cell_type": "code",
   "execution_count": null,
   "metadata": {
    "collapsed": false,
    "specialcell_type": "setup"
   },
   "outputs": [],
   "source": [
    "# SETUP\n",
    "\n",
    "# These lines import the Numpy and Datascience modules.\n",
    "import numpy as np\n",
    "from datascience import *\n",
    "\n",
    "# These lines do some fancy plotting magic\n",
    "import matplotlib\n",
    "%matplotlib inline\n",
    "import matplotlib.pyplot as plt\n",
    "plt.style.use('fivethirtyeight')\n",
    "import warnings\n",
    "warnings.simplefilter('ignore', FutureWarning)"
   ]
  },
  {
   "cell_type": "code",
   "execution_count": null,
   "metadata": {
    "collapsed": true,
    "specialcell_type": "OK"
   },
   "outputs": [],
   "source": [
    "# OK\n",
    "import doctest\n",
    "import jupyterDoctest"
   ]
  },
  {
   "cell_type": "markdown",
   "metadata": {},
   "source": [
    "## Question 1.3.12\n",
    "\n",
    "1. Prove $P(\\bigcup_{i=1}^{n+1} A_i = P(\\bigcup_{i=1}^{n} A_i) + P(A_{n+1}) - P(\\bigcup_{i=1}^{n} A_iA_{n+1})$\n",
    "2. Prove $P(\\bigcup_{i=1}^{n} A_i) = \\sum_{i} P(A_i) - \\sum_{i<j}P(A_iA_j) + ... (-1)^{n+1}P(A_1A_2....A_n) $ through induction on N"
   ]
  },
  {
   "cell_type": "markdown",
   "metadata": {},
   "source": [
    "#SOLUTION\n",
    "\n",
    "1) We can think of $\\bigcup_{i=1}^{n+1} A_i $ as the union of two sets $\\bigcup_{i=1}^{n} A_i$ and $A_{n+1}$. Using the inclusion-exclusion principle for two sets: $P(A\\cup B) = P(A) + P(B) - P(AB)$. Plugging in our two sets we get \n",
    "\n",
    "$$\n",
    "\\begin{align*}\n",
    "P(\\bigcup_{i=1}^{n} A_i \\cup A_{n+1}) &= P(\\bigcup_{i=1}^{n} A_i ) + P(A_{n+1}) - P(A_{n+1} \\cap \\bigcup_{i=1}^{n} A_i ) \\\\\n",
    "P(\\bigcup_{i=1}^{n+1} A_i) &= P(\\bigcup_{i=1}^{n} A_i ) + P(A_{n+1}) - P(A_{n+1} \\cap \\bigcup_{i=1}^{n} A_i ) \\\\\n",
    "P(\\bigcup_{i=1}^{n+1} A_i) &= P(\\bigcup_{i=1}^{n} A_i ) + P(A_{n+1}) - P(\\bigcup_{i=1}^{n} A_i\\cap A_{n+1} ) & \\text{By Distributivity of conjunction over disjunction}\\\\\n",
    "\\end{align*}\n",
    "$$\n",
    "\n",
    "2) \n",
    "\n",
    "*Base Case:* $P(\\bigcup_{i=1}^{1} A_i = \\sum_{i=1}^{1} P(A_i) = P(A_i)$\n",
    "\n",
    "\n",
    "Let us assume that the statement is true for some arbitrary n. \n",
    "**Proof:**\n",
    "        \n",
    "$$        \n",
    "\\begin{align*}\n",
    "P(\\bigcup_{i=1}^{n+1} A_i) \t&= P(\\bigcup_{i=1}^{n} A_i) + P(A_{n+1}) + (\\bigcup_{i=1}^{n} A_iA_{n+1}) \\\\\n",
    "    &\\text{Expanding $P(\\bigcup_{i=1}^{n} A_i)$ and $(\\bigcup_{i=1}^{n} A_iA_{n+1})$ through assertion}\\\\\n",
    "    &= \\sum_{i<n+1} P(A_i) - \\sum_{i<j<n+1}P(A_iA_j) + \\sum_{i<j<k<n+1} P(A_iA_jA_k) + ... + (-1)^{n+1} P(A_1A_2....A_{n})  \\\\\n",
    "    &~~~~+ A_{n+1} - \\sum_{i} A_iA_{n+1} + \\sum_{i<j} A_iA_{n+1}A_jA_{n+1} + ... + (-1)^{n+2}P(A_1A_2....A_{n+1}) \\\\\n",
    "    &\\text{Using idempotency of conjunction (aka $A_iA_{n+1}A_jA_{n+1} = A_iA_jA_{n+1}$)}\\\\\n",
    "    &= \\sum_{i<n+1} P(A_i) - \\sum_{i<j<n+1}P(A_iA_j) + \\sum_{i<j<k<n+1} P(A_iA_jA_n) + ... + (-1)^{k+1} P(A_1A_2....A_{n})  \\\\\n",
    "    &~~~~+ A_{n+1} - \\sum_{i} A_iA_{n+1} + \\sum_{i<j} A_iA_jA_{n+1} + ... + (-1)^{n+2}P(A_1A_2....A_{n+1}) \\\\\n",
    "    &= \\sum_{i<n+1} P(A_i) - \\sum_{i<j<n+1}P(A_iA_j) + \\sum_{i<j<k<n+1} P(A_iA_jA_k) + ... + (-1)^{k+1} P(A_1A_2....A_{k})  \\\\\n",
    "    &~~~~+ A_{n+1} - \\sum_{i<j=n+1} A_iA_j + \\sum_{i<j<k=n+1} A_iA_jA_k \\\\\n",
    "&= \\sum_{i<n+1} P(A_i) + \\sum_{i=n+1} P(A_i) - \\sum_{i<j<n+1}P(A_iA_j) - \\sum_{i<j=n+1}P(A_iA_j) + ...  (-1)^{k+2}P(A_1A_2....A_{k+1}) \\\\\n",
    "        &= \\sum_{i}^{n+1} P(A_i) - \\sum_{i<j}P(A_iA_j) + ... (-1)^{n+2}P(A_1A_2....A_{k+1}) \\\\\n",
    "&= P(\\bigcup_{i=1}^{n+1} A_i) \\\\\n",
    "\\end{align*}\n",
    "$$\n",
    "\t\tExplanation: Let us take the terms of the (n+1)th expansion: for each summation we can split it into a sum over the indices less than n+1, and a sum where the final index is n+1. We can note that the n-th expansion contains the first summations, and the $(\\bigcup_{i=1}^{n} A_iA_{n+1})$ provides terms for the second half of the split summations. The trick here is to recognize that we can rewrite terms like $P(A_iA_{n+1}A_jA_{n+1})$  as $P(A_iA_jA_{n+1})$ (by the idempotency of conjunction).  "
   ]
  }
 ],
 "metadata": {
  "kernelspec": {
   "display_name": "Python 3",
   "language": "python",
   "name": "python3"
  },
  "language_info": {
   "codemirror_mode": {
    "name": "ipython",
    "version": 3
   },
   "file_extension": ".py",
   "mimetype": "text/x-python",
   "name": "python",
   "nbconvert_exporter": "python",
   "pygments_lexer": "ipython3",
   "version": "3.6.0"
  }
 },
 "nbformat": 4,
 "nbformat_minor": 0
}
