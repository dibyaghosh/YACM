{
 "cells": [
  {
   "cell_type": "code",
   "execution_count": null,
   "metadata": {
    "collapsed": false,
    "specialcell_type": "setup"
   },
   "outputs": [],
   "source": [
    "# SETUP\n",
    "\n",
    "import numpy as np\n",
    "from datascience import *\n",
    "\n",
    "# These lines do some fancy plotting magic\n",
    "import matplotlib\n",
    "%matplotlib inline\n",
    "import matplotlib.pyplot as plt\n",
    "plt.style.use('fivethirtyeight')\n",
    "\n",
    "# These lines make warnings look nicer\n",
    "import warnings\n",
    "warnings.simplefilter('ignore', FutureWarning)\n",
    "from client.api.assignment import load_assignment\n",
    "autograder = load_assignment('main.ok')\n",
    "from client.api.assignment import load_assignment\n",
    "autograder = load_assignment('main.ok')"
   ]
  },
  {
   "cell_type": "markdown",
   "metadata": {},
   "source": [
    "# Homework # \n",
    "\n",
    "This assignment will be due at ____________"
   ]
  },
  {
   "cell_type": "markdown",
   "metadata": {},
   "source": [
    "# Probability of Two Heads"
   ]
  },
  {
   "cell_type": "markdown",
   "metadata": {},
   "source": [
    "## Part 1: Fair Coins"
   ]
  },
  {
   "cell_type": "markdown",
   "metadata": {},
   "source": [
    "What's the probability that when you flip a fair coin twice, that it lands heads both times?"
   ]
  },
  {
   "cell_type": "markdown",
   "metadata": {
    "purpose": "solution"
   },
   "source": [
    "Enter your solution here"
   ]
  },
  {
   "cell_type": "markdown",
   "metadata": {},
   "source": [
    "Let's say that the coin isn't fair, and instead lands heads with probability $p$. Write a function $pOf2Heads$ which accepts a parameter $p$, and outputs the probability of 2 heads with a biased coin as specified above"
   ]
  },
  {
   "cell_type": "code",
   "execution_count": 6,
   "metadata": {
    "collapsed": true,
    "purpose": "solution"
   },
   "outputs": [],
   "source": [
    "def pOf2Heads(p):\n",
    "\t... # Your code here"
   ]
  },
  {
   "cell_type": "code",
   "execution_count": 10,
   "metadata": {
    "collapsed": false
   },
   "outputs": [],
   "source": [
    "_ = autograder.grade('q1')"
   ]
  },
  {
   "cell_type": "markdown",
   "metadata": {},
   "source": [
    "## Question 1.3.12\n",
    "\n",
    "1. Prove $P(\\bigcup_{i=1}^{n+1} A_i = P(\\bigcup_{i=1}^{n} A_i) + P(A_{n+1}) - P(\\bigcup_{i=1}^{n} A_iA_{n+1})$\n",
    "2. Prove $P(\\bigcup_{i=1}^{n} A_i) = \\sum_{i} P(A_i) - \\sum_{i<j}P(A_iA_j) + ... (-1)^{n+1}P(A_1A_2....A_n) $ through induction on N"
   ]
  },
  {
   "cell_type": "markdown",
   "metadata": {
    "purpose": "solution"
   },
   "source": [
    "Enter your solution here"
   ]
  },
  {
   "cell_type": "code",
   "execution_count": null,
   "metadata": {
    "collapsed": false
   },
   "outputs": [],
   "source": [
    "# For your convenience, you can run this cell to run all the tests at once!\n",
    "import os\n",
    "_ = [autograder.grade(q[:-3]) for q in os.listdir(\"tests\") if q.startswith('q')]"
   ]
  },
  {
   "cell_type": "code",
   "execution_count": null,
   "metadata": {
    "collapsed": true
   },
   "outputs": [],
   "source": [
    "import gsExport\n",
    "gsExport.generateSubmission()"
   ]
  }
 ],
 "metadata": {
  "kernelspec": {
   "display_name": "Python 3",
   "language": "python",
   "name": "python3"
  },
  "language_info": {
   "codemirror_mode": {
    "name": "ipython",
    "version": 3
   },
   "file_extension": ".py",
   "mimetype": "text/x-python",
   "name": "python",
   "nbconvert_exporter": "python",
   "pygments_lexer": "ipython3",
   "version": "3.6.0"
  }
 },
 "nbformat": 4,
 "nbformat_minor": 0
}
